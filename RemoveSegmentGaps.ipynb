{
 "metadata": {
  "name": ""
 },
 "nbformat": 3,
 "nbformat_minor": 0,
 "worksheets": [
  {
   "cells": [
    {
     "cell_type": "markdown",
     "metadata": {},
     "source": [
      "Code to reorder segments within an existing SFR file to meet the requirement that no gaps be present in segment numbers.\n",
      "\n",
      "NB --> working on file NACP_revised.SFR with a backup copy saved as NACP_revised_tmp.SFR and the *original* file from the scripts called NACP.SFR"
     ]
    },
    {
     "cell_type": "code",
     "collapsed": false,
     "input": [
      "%matplotlib inline\n",
      "import numpy as np\n",
      "infile = 'NACP_revised_tmp.SFR'\n",
      "outfile = 'NACP_revised.SFR'\n",
      "indat = open(infile,'r').readlines()\n",
      "tmp = list()\n",
      "headerlines = list()\n",
      "for line in indat:\n",
      "    if '#' not in line:\n",
      "        tmp.append(line.strip())\n",
      "    else:\n",
      "        headerlines.append(line.strip())\n",
      "indat = tmp\n",
      "del(tmp)\n",
      "numsegs = np.abs(int(indat[0].split()[1]))\n",
      "numreaches = np.abs(int(indat[0].split()[0]))\n",
      "routing_startline = indat[numreaches+1]\n",
      "start_routing = numreaches+2"
     ],
     "language": "python",
     "metadata": {},
     "outputs": [],
     "prompt_number": 106
    },
    {
     "cell_type": "markdown",
     "metadata": {},
     "source": [
      "Make a list of all the segments including gaps from the routing section of the input file\n"
     ]
    },
    {
     "cell_type": "code",
     "collapsed": false,
     "input": [
      "segment_numbers = list()\n",
      "for i in np.arange(0,numsegs*3,3):\n",
      "    segment_numbers.append(int(indat[i+start_routing].split()[0]))\n",
      "segment_numbers = np.array(segment_numbers)\n",
      "new_segnums = np.arange(1,len(segment_numbers)+1)"
     ],
     "language": "python",
     "metadata": {},
     "outputs": [],
     "prompt_number": 107
    },
    {
     "cell_type": "code",
     "collapsed": false,
     "input": [
      "segment_lookup = dict(zip(segment_numbers,new_segnums))"
     ],
     "language": "python",
     "metadata": {},
     "outputs": [],
     "prompt_number": 108
    },
    {
     "cell_type": "markdown",
     "metadata": {},
     "source": [
      "Make a dictionary with keys being the old segment numbers and the values being the new segment numbers in sequence.\n",
      "\n",
      "Then we can read through the input file data again and replace the old segment numbers with the new ones and write them out to the new file."
     ]
    },
    {
     "cell_type": "code",
     "collapsed": false,
     "input": [
      "ofp = open(outfile,'w')\n",
      "# write out the headerlines\n",
      "for line in headerlines:\n",
      "    ofp.write(line + '\\n')\n",
      "# now go over the reach section\n",
      "ofp.write(indat[0] + '\\n')\n",
      "for i in np.arange(numreaches):\n",
      "    line = indat[i+1].split()\n",
      "    tmpseg = int(line[3])\n",
      "    line[3]= str(segment_lookup[tmpseg])\n",
      "    newlineout = ' '.join(line)\n",
      "    ofp.write(newlineout + '\\n')\n",
      "\n",
      "# next, handle the routing section\n",
      "ofp.write(routing_startline + '\\n')\n",
      "for i in np.arange(0,numsegs*3):\n",
      "    if np.mod(i,3):\n",
      "        ofp.write(indat[i+start_routing] + '\\n')\n",
      "    else:\n",
      "        line = indat[i+start_routing].split()\n",
      "        line[0] = str(segment_lookup[int(line[0])])\n",
      "        if int(line[2]):\n",
      "            line[2] = str(segment_lookup[int(line[2])])\n",
      "        ofp.write(' '.join(line) + '\\n')\n",
      "        \n",
      "ofp.close()"
     ],
     "language": "python",
     "metadata": {},
     "outputs": [],
     "prompt_number": 109
    },
    {
     "cell_type": "code",
     "collapsed": false,
     "input": [],
     "language": "python",
     "metadata": {},
     "outputs": [],
     "prompt_number": 109
    },
    {
     "cell_type": "code",
     "collapsed": false,
     "input": [],
     "language": "python",
     "metadata": {},
     "outputs": [],
     "prompt_number": 109
    },
    {
     "cell_type": "code",
     "collapsed": false,
     "input": [],
     "language": "python",
     "metadata": {},
     "outputs": []
    }
   ],
   "metadata": {}
  }
 ]
}