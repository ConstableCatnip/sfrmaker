{
 "cells": [
  {
   "cell_type": "code",
   "execution_count": 120,
   "metadata": {
    "collapsed": true
   },
   "outputs": [],
   "source": [
    "import numpy as np\n",
    "import pandas as pd\n",
    "from shapely.geometry import Point\n",
    "from rtree import index\n",
    "from GISio import shp2df, df2shp, get_values_at_points"
   ]
  },
  {
   "cell_type": "code",
   "execution_count": 121,
   "metadata": {
    "collapsed": false
   },
   "outputs": [],
   "source": [
    "newlines = '../Examples/data/added_lines.shp'\n",
    "sfrlines = '../Examples/data/SFRlines.shp'\n",
    "dem = 'D:/ATLData/BR/BadRiver/grid/dem/dem_utm_ft/w001001.adf'"
   ]
  },
  {
   "cell_type": "code",
   "execution_count": 122,
   "metadata": {
    "collapsed": false
   },
   "outputs": [
    {
     "name": "stdout",
     "output_type": "stream",
     "text": [
      "\n",
      "reading ../Examples/data/added_lines.shp...\n",
      "--> building dataframe... (may take a while for large shapefiles)\n",
      "\n",
      "reading ../Examples/data/SFRlines.shp...\n",
      "--> building dataframe... (may take a while for large shapefiles)\n"
     ]
    }
   ],
   "source": [
    "nl = shp2df(newlines)\n",
    "sfr = shp2df(sfrlines)\n",
    "tol = 100\n",
    "nsegstart = sfr.segment.astype(int).max() + 1"
   ]
  },
  {
   "cell_type": "code",
   "execution_count": 123,
   "metadata": {
    "collapsed": false
   },
   "outputs": [],
   "source": [
    "start_cds = [(g.xy[0][0], g.xy[1][0]) for g in nl.geometry]\n",
    "end_cds = [(g.xy[0][-1], g.xy[1][-1]) for g in nl.geometry]\n",
    "sfr_start_cds = [(g.xy[0][0], g.xy[1][0]) for g in sfr.geometry]"
   ]
  },
  {
   "cell_type": "code",
   "execution_count": 124,
   "metadata": {
    "collapsed": false
   },
   "outputs": [],
   "source": [
    "max_elevs = get_values_at_points(dem, start_cds)\n",
    "min_elevs = get_values_at_points(dem, end_cds)"
   ]
  },
  {
   "cell_type": "code",
   "execution_count": 125,
   "metadata": {
    "collapsed": false
   },
   "outputs": [],
   "source": [
    "nl = pd.DataFrame(nl.geometry)\n",
    "nl['segment'] = np.arange(nsegstart, nsegstart+len(nl))\n",
    "nl['elevMax'] = max_elevs\n",
    "nl['elevMin'] = min_elevs\n",
    "nl['upsegs'] = [[]] * len(nl)\n",
    "nl['outseg'] = 0"
   ]
  },
  {
   "cell_type": "code",
   "execution_count": 137,
   "metadata": {
    "collapsed": false
   },
   "outputs": [
    {
     "name": "stdout",
     "output_type": "stream",
     "text": [
      "routing new lines...\n"
     ]
    }
   ],
   "source": [
    "# get index of nearest start to each end\n",
    "def get_nearest(starts, ends):\n",
    "    idx = index.Index()\n",
    "    for i, start in enumerate(starts):\n",
    "        idx.insert(i, start)\n",
    "    return [list(idx.nearest(end, 2))[0] if list(idx.nearest(end, 1))[0] != i\n",
    "            else list(idx.nearest(end, 2))[1]\n",
    "            for i, end in enumerate(ends)]\n",
    "\n",
    "\n",
    "print 'routing new lines...'\n",
    "nearest_start = get_nearest(start_cds, end_cds)\n",
    "\n",
    "# record the preliminary seg. number of nearest start if within tol\n",
    "nl['outseg'] = [nl.segment[n] if Point(*start_cds[n]).distance(Point(*ends_cds[i])) < tol \n",
    "                 else 0 for i, n in enumerate(nearest_start)]\n",
    "\n",
    "nl['upsegs'] = [nl.segment[nl.outseg == s].tolist() for s in nl.segment]"
   ]
  },
  {
   "cell_type": "code",
   "execution_count": 138,
   "metadata": {
    "collapsed": false
   },
   "outputs": [
    {
     "name": "stdout",
     "output_type": "stream",
     "text": [
      "routing new lines to SFR...\n"
     ]
    }
   ],
   "source": [
    "print 'routing new lines to SFR...'\n",
    "\n",
    "is_outlet = nl.outseg.values == 0\n",
    "new_lines_outlet_cds = map(tuple, np.array(end_cds)[is_outlet])\n",
    "\n",
    "# get index of nearest start to each end\n",
    "nearest_sfr = get_nearest(sfr_start_cds, new_lines_outlet_cds)\n",
    "\n",
    "# record the preliminary seg. number of nearest start if within tol\n",
    "nl.loc[is_outlet, 'outseg'] = [sfr.segment[n] \n",
    "                               if Point(*sfr_start_cds[n]).distance(\\\n",
    "                                  Point(*new_lines_outlet_cds[i])) < tol \n",
    "                               else 0 for i, n in enumerate(nearest_sfr)]"
   ]
  },
  {
   "cell_type": "code",
   "execution_count": null,
   "metadata": {
    "collapsed": true
   },
   "outputs": [],
   "source": []
  },
  {
   "cell_type": "code",
   "execution_count": 139,
   "metadata": {
    "collapsed": false
   },
   "outputs": [
    {
     "name": "stdout",
     "output_type": "stream",
     "text": [
      "writing temp/junk.shp...\n"
     ]
    }
   ],
   "source": [
    "df2shp(nl, 'temp/junk.shp', epsg=26715)"
   ]
  },
  {
   "cell_type": "code",
   "execution_count": 145,
   "metadata": {
    "collapsed": false
   },
   "outputs": [
    {
     "data": {
      "text/plain": [
       "[30.931128978382517,\n",
       " 66.42850017582501,\n",
       " 44.026341914120756,\n",
       " 35.69563040706045,\n",
       " 85.70023138569788,\n",
       " 76.34531215790344,\n",
       " 54.824131959398755,\n",
       " 25.75964296381895,\n",
       " 59.51208598342562,\n",
       " 10.832650014948323,\n",
       " 99.58368702124653,\n",
       " 29.576890262867256,\n",
       " 65.41116556855103,\n",
       " 271.7038636135656,\n",
       " 58.22844255944167,\n",
       " 75.74442817947747,\n",
       " 43.53502837533221,\n",
       " 97.9263938885384,\n",
       " 42.04153101217789,\n",
       " 57.90288211351542,\n",
       " 1029.497285560213,\n",
       " 27.174309998463546,\n",
       " 119.88181008971353,\n",
       " 77.02044993997885,\n",
       " 68.9077294579952,\n",
       " 50.2912156861218,\n",
       " 38.286644892390825,\n",
       " 41.34612415155738,\n",
       " 28.964544361385563,\n",
       " 77.91637608006417,\n",
       " 74.63495311141715,\n",
       " 63.10083406893315,\n",
       " 62.10678632674487,\n",
       " 62.75179152755675,\n",
       " 29.305517998591004,\n",
       " 271.26877316733606,\n",
       " 102.02944325452265,\n",
       " 63.756383209940765,\n",
       " 17.293891263515214,\n",
       " 57.19268189055897,\n",
       " 40.29534580473399,\n",
       " 98.04355766962823,\n",
       " 12.799579661857168,\n",
       " 1894.8629675167558,\n",
       " 5.600683603881446,\n",
       " 164.8448293417493,\n",
       " 85.80996567641861,\n",
       " 91.54179567730884,\n",
       " 55.52508913701957,\n",
       " 716.5416497039841,\n",
       " 20.61879654284638,\n",
       " 56.82128445991383,\n",
       " 467.21999306470593,\n",
       " 857.6594896152386,\n",
       " 34.91411780317693]"
      ]
     },
     "execution_count": 145,
     "metadata": {},
     "output_type": "execute_result"
    }
   ],
   "source": [
    "[Point(*sfr_start_cds[n]).distance(\\\n",
    "Point(*new_lines_outlet_cds[i])) \n",
    "for i, n in enumerate(nearest_sfr)]"
   ]
  },
  {
   "cell_type": "code",
   "execution_count": 135,
   "metadata": {
    "collapsed": false
   },
   "outputs": [
    {
     "data": {
      "text/plain": [
       "[127L,\n",
       " 68L,\n",
       " 105L,\n",
       " 5L,\n",
       " 70L,\n",
       " 103L,\n",
       " 99L,\n",
       " 83L,\n",
       " 24L,\n",
       " 23L,\n",
       " 57L,\n",
       " 49L,\n",
       " 77L,\n",
       " 69L,\n",
       " 76L,\n",
       " 79L,\n",
       " 95L,\n",
       " 12L,\n",
       " 97L,\n",
       " 116L,\n",
       " 110L,\n",
       " 71L,\n",
       " 113L,\n",
       " 2L,\n",
       " 8L,\n",
       " 85L,\n",
       " 77L,\n",
       " 85L,\n",
       " 114L,\n",
       " 33L,\n",
       " 39L,\n",
       " 24L,\n",
       " 63L,\n",
       " 92L,\n",
       " 71L,\n",
       " 52L,\n",
       " 10L,\n",
       " 68L,\n",
       " 14L,\n",
       " 30L,\n",
       " 133L,\n",
       " 103L,\n",
       " 5L,\n",
       " 9L,\n",
       " 110L,\n",
       " 64L,\n",
       " 60L,\n",
       " 129L,\n",
       " 117L,\n",
       " 136L,\n",
       " 1L,\n",
       " 17L,\n",
       " 35L,\n",
       " 26L,\n",
       " 93L,\n",
       " 89L,\n",
       " 78L,\n",
       " 31L,\n",
       " 120L,\n",
       " 50L,\n",
       " 112L,\n",
       " 67L,\n",
       " 59L,\n",
       " 25L,\n",
       " 45L,\n",
       " 73L,\n",
       " 49L,\n",
       " 80L,\n",
       " 58L,\n",
       " 98L,\n",
       " 55L,\n",
       " 21L,\n",
       " 12L,\n",
       " 92L,\n",
       " 15L,\n",
       " 3L,\n",
       " 99L,\n",
       " 12L,\n",
       " 38L,\n",
       " 15L,\n",
       " 2L,\n",
       " 134L,\n",
       " 6L,\n",
       " 7L,\n",
       " 112L,\n",
       " 27L,\n",
       " 50L,\n",
       " 110L,\n",
       " 122L,\n",
       " 55L,\n",
       " 40L,\n",
       " 115L,\n",
       " 118L,\n",
       " 29L,\n",
       " 0L,\n",
       " 16L,\n",
       " 126L,\n",
       " 135L,\n",
       " 61L,\n",
       " 6L,\n",
       " 89L,\n",
       " 35L,\n",
       " 58L,\n",
       " 41L,\n",
       " 106L,\n",
       " 42L,\n",
       " 108L,\n",
       " 21L,\n",
       " 22L,\n",
       " 52L,\n",
       " 44L,\n",
       " 82L,\n",
       " 60L,\n",
       " 126L,\n",
       " 28L,\n",
       " 28L,\n",
       " 19L,\n",
       " 48L,\n",
       " 15L,\n",
       " 43L,\n",
       " 58L,\n",
       " 64L,\n",
       " 88L,\n",
       " 37L,\n",
       " 83L,\n",
       " 90L,\n",
       " 132L,\n",
       " 0L,\n",
       " 90L,\n",
       " 90L,\n",
       " 107L,\n",
       " 133L,\n",
       " 1L,\n",
       " 40L,\n",
       " 88L,\n",
       " 97L,\n",
       " 49L]"
      ]
     },
     "execution_count": 135,
     "metadata": {},
     "output_type": "execute_result"
    }
   ],
   "source": [
    "idx = index.Index()\n",
    "for i, start in enumerate(start_cds):\n",
    "    idx.insert(i, start)\n",
    "[list(idx.nearest(end, 2))[0] if list(idx.nearest(end, 1))[0] != i\n",
    "        else list(idx.nearest(end, 2))[1]\n",
    "        for i, end in enumerate(end_cds)]"
   ]
  },
  {
   "cell_type": "code",
   "execution_count": 132,
   "metadata": {
    "collapsed": false
   },
   "outputs": [
    {
     "data": {
      "text/plain": [
       "[0,\n",
       " 1,\n",
       " 2,\n",
       " 3,\n",
       " 4,\n",
       " 5,\n",
       " 6,\n",
       " 7,\n",
       " 8,\n",
       " 9,\n",
       " 10,\n",
       " 11,\n",
       " 12,\n",
       " 13,\n",
       " 14,\n",
       " 15,\n",
       " 16,\n",
       " 17,\n",
       " 18,\n",
       " 19,\n",
       " 20,\n",
       " 21,\n",
       " 22,\n",
       " 23,\n",
       " 24,\n",
       " 25,\n",
       " 26,\n",
       " 27,\n",
       " 28,\n",
       " 29,\n",
       " 30,\n",
       " 31,\n",
       " 32,\n",
       " 33,\n",
       " 34,\n",
       " 35,\n",
       " 36,\n",
       " 37,\n",
       " 38,\n",
       " 39,\n",
       " 40,\n",
       " 41,\n",
       " 42,\n",
       " 43,\n",
       " 44,\n",
       " 45,\n",
       " 46,\n",
       " 47,\n",
       " 48,\n",
       " 49,\n",
       " 50,\n",
       " 51,\n",
       " 52,\n",
       " 53,\n",
       " 54,\n",
       " 55,\n",
       " 56,\n",
       " 57,\n",
       " 58,\n",
       " 59,\n",
       " 60,\n",
       " 61,\n",
       " 62,\n",
       " 63,\n",
       " 64,\n",
       " 65,\n",
       " 66,\n",
       " 67,\n",
       " 68,\n",
       " 69,\n",
       " 70,\n",
       " 71,\n",
       " 72,\n",
       " 73,\n",
       " 74,\n",
       " 75,\n",
       " 76,\n",
       " 77,\n",
       " 78,\n",
       " 79,\n",
       " 80,\n",
       " 81,\n",
       " 82,\n",
       " 83,\n",
       " 84,\n",
       " 85,\n",
       " 86,\n",
       " 87,\n",
       " 88,\n",
       " 89,\n",
       " 90,\n",
       " 91,\n",
       " 92,\n",
       " 93,\n",
       " 94,\n",
       " 95,\n",
       " 96,\n",
       " 97,\n",
       " 98,\n",
       " 99,\n",
       " 100,\n",
       " 101,\n",
       " 102,\n",
       " 103,\n",
       " 104,\n",
       " 105,\n",
       " 106,\n",
       " 107,\n",
       " 108,\n",
       " 109,\n",
       " 110,\n",
       " 111,\n",
       " 112,\n",
       " 113,\n",
       " 114,\n",
       " 115,\n",
       " 116,\n",
       " 117,\n",
       " 118,\n",
       " 119,\n",
       " 120,\n",
       " 121,\n",
       " 122,\n",
       " 123,\n",
       " 124,\n",
       " 125,\n",
       " 126,\n",
       " 127,\n",
       " 128,\n",
       " 129,\n",
       " 130,\n",
       " 131,\n",
       " 132,\n",
       " 133,\n",
       " 134,\n",
       " 135,\n",
       " 136]"
      ]
     },
     "execution_count": 132,
     "metadata": {},
     "output_type": "execute_result"
    }
   ],
   "source": [
    "[i for i, end in enumerate(end_cds)]"
   ]
  },
  {
   "cell_type": "code",
   "execution_count": null,
   "metadata": {
    "collapsed": true
   },
   "outputs": [],
   "source": []
  }
 ],
 "metadata": {
  "kernelspec": {
   "display_name": "Python 2",
   "language": "python",
   "name": "python2"
  },
  "language_info": {
   "codemirror_mode": {
    "name": "ipython",
    "version": 2
   },
   "file_extension": ".py",
   "mimetype": "text/x-python",
   "name": "python",
   "nbconvert_exporter": "python",
   "pygments_lexer": "ipython2",
   "version": "2.7.11"
  }
 },
 "nbformat": 4,
 "nbformat_minor": 0
}
