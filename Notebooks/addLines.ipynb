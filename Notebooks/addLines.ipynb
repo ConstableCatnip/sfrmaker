{
 "cells": [
  {
   "cell_type": "code",
   "execution_count": 1,
   "metadata": {
    "collapsed": false
   },
   "outputs": [
    {
     "name": "stderr",
     "output_type": "stream",
     "text": [
      "//anaconda/lib/python2.7/site-packages/matplotlib/font_manager.py:273: UserWarning: Matplotlib is building the font cache using fc-list. This may take a moment.\n",
      "  warnings.warn('Matplotlib is building the font cache using fc-list. This may take a moment.')\n"
     ]
    }
   ],
   "source": [
    "import sys\n",
    "sys.path.append('..')\n",
    "import numpy as np\n",
    "import pandas as pd\n",
    "import fiona\n",
    "from shapely.geometry import Point, LineString\n",
    "from rtree import index\n",
    "import flopy\n",
    "from GISio import shp2df, df2shp, get_values_at_points, get_proj4\n",
    "from preproc import NHDdata, renumber_segments, get_upsegs, lines"
   ]
  },
  {
   "cell_type": "code",
   "execution_count": 2,
   "metadata": {
    "collapsed": false
   },
   "outputs": [
    {
     "name": "stdout",
     "output_type": "stream",
     "text": [
      "Reading input...\n",
      "\n",
      "reading ../Examples/data/elevslope.dbf...\n",
      "--> building dataframe... (may take a while for large shapefiles)\n",
      "\n",
      "reading ../Examples/data/PlusFlow.dbf...\n",
      "--> building dataframe... (may take a while for large shapefiles)\n",
      "\n",
      "reading ../Examples/data/PlusFlowlineVAA.dbf...\n",
      "--> building dataframe... (may take a while for large shapefiles)\n",
      "\n",
      "reading ../Examples/data/NHDflowlines.shp...\n",
      "--> building dataframe... (may take a while for large shapefiles)\n",
      "\n",
      "reading ../Examples/data/grid2.shp...\n",
      "--> building dataframe... (may take a while for large shapefiles)\n",
      "Warning: Node field for grid shape file not supplied.                   Node numbers will be assigned using index.                   This may result in incorrect location of SFR reaches.\n",
      "reprojecting NHDFlowlines from\n",
      "+proj=longlat +datum=NAD83 +no_defs \n",
      "to\n",
      "+proj=utm +zone=15 +datum=NAD27 +units=m +no_defs ...\n",
      "\n",
      "clipping flowlines to active area...\n",
      "intersecting flowlines with grid cells...\n",
      "\n",
      "Building spatial index...\n",
      "finished in 1.87s\n",
      "\n",
      "Intersecting 17 features...\n",
      "17\n",
      "finished in 0.10s\n",
      "\n",
      "setting up segments... (may take a few minutes for large networks)\n",
      "getting routing information from NHDPlus Plusflow table...\n",
      "assigning segment numbers...\n",
      "finished in 0.02s\n",
      "\n",
      "setting up reaches and Mat1... (may take a few minutes for large grids)\n",
      "finished in 1.53s\n",
      "\n",
      "computing widths...\n",
      "multiplying length units by 3.28083989501 to convert from GIS to MODFLOW...\n",
      "\n",
      "setting up Mat2...\n",
      "enforcing best segment numbering...\n",
      "finished in 0.00s\n",
      "\n",
      "\n",
      "Done creating SFR dataset.\n",
      "writing reach geometries to ../Examples/data/SFRlines2.shp\n",
      "writing ../Examples/data/SFRlines2.shp...\n"
     ]
    }
   ],
   "source": [
    "nhd_lines = '../Examples/data/NHDflowlines.shp'\n",
    "newlines = '../Examples/data/added_lines2.shp'\n",
    "sfrlines = '../Examples/data/SFRlines2.shp'\n",
    "grid = '../Examples/data/grid2.shp'\n",
    "domain = '../Examples/data/domain2.shp'\n",
    "#dem = 'D:/ATLData/BR/BadRiver/grid/dem/dem_utm_ft/w001001.adf'\n",
    "dem = '/Users/aleaf/Documents/BR/BadRiver/grid/dem/dem_utm_ft/w001001.adf'\n",
    "\n",
    "#nhdpathGL = '/Users/aleaf/Documents/NHDPlus/NHDPlusGL/NHDPlus04/NHDPlusAttributes/'\n",
    "nhdpathGL = '../Examples/data/'\n",
    "\n",
    "pfvaa_files = nhdpathGL + 'PlusFlowlineVAA.dbf'\n",
    "pf_files = nhdpathGL + 'PlusFlow.dbf'\n",
    "elevslope_files = nhdpathGL + 'elevslope.dbf'\n",
    "nhd_lines_proj4 = get_proj4('/Users/aleaf/Documents/BR/BadRiver/streams/preproc/SFR_lines.shp')\n",
    "\n",
    "nhd = NHDdata(NHDFlowline=nhd_lines, PlusFlowlineVAA=pfvaa_files, PlusFlow=pf_files,\n",
    "              elevslope=elevslope_files,\n",
    "              mf_grid=grid, mf_units='feet',\n",
    "              model_domain=domain,\n",
    "              flowlines_proj4=nhd_lines_proj4)\n",
    "\n",
    "nhd.to_sfr()\n",
    "nhd.write_linework_shapefile(basename='../Examples/data/SFRlines2')"
   ]
  },
  {
   "cell_type": "code",
   "execution_count": 3,
   "metadata": {
    "collapsed": false
   },
   "outputs": [
    {
     "name": "stdout",
     "output_type": "stream",
     "text": [
      "Reading input...\n",
      "\n",
      "reading ../Examples/data/added_lines2.shp...\n",
      "--> building dataframe... (may take a while for large shapefiles)\n",
      "\n",
      "reading ../Examples/data/grid2.shp...\n",
      "--> building dataframe... (may take a while for large shapefiles)\n",
      "routing new lines within 200 to SFR...\n",
      "\n",
      "clipping lines to active area...\n",
      "intersecting lines with grid cells...\n",
      "\n",
      "Building spatial index...\n",
      "finished in 1.93s\n",
      "\n",
      "Intersecting 40 features...\n",
      "40\n",
      "finished in 0.01s\n",
      "\n",
      "setting up reaches and Mat1... (may take a few minutes for large grids)\n",
      "finished in 0.14s\n",
      "\n",
      "computing lengths...\n",
      "computing arbolate sums at reach midpoints...\n",
      "finished in 0.01s\n",
      "\n",
      "computing widths...\n",
      "multiplying length units by 3.28083989501 to convert from GIS to MODFLOW...\n",
      "\n",
      "setting up Mat2...\n",
      "finished in 0.00s\n",
      "\n"
     ]
    }
   ],
   "source": [
    "lns = lines(newlines, mf_grid=grid, mf_grid_node_col='node', model_domain=domain)\n",
    "lns.get_end_elevs_from_dem(dem)\n",
    "m1, m2 = lns.append2sfr(nhd.m1, route2reach1=False, routing_tol=200)"
   ]
  },
  {
   "cell_type": "code",
   "execution_count": 8,
   "metadata": {
    "collapsed": false
   },
   "outputs": [
    {
     "name": "stdout",
     "output_type": "stream",
     "text": [
      "writing temp/junk.shp...\n"
     ]
    }
   ],
   "source": [
    "df = nhd.m1.append(m1)\n",
    "df.sort_values(['segment', 'reach'], inplace=True)\n",
    "df2shp(df, 'temp/junk.shp')"
   ]
  },
  {
   "cell_type": "code",
   "execution_count": 4,
   "metadata": {
    "collapsed": false
   },
   "outputs": [
    {
     "name": "stdout",
     "output_type": "stream",
     "text": [
      "Reading input...\n",
      "\n",
      "reading ../Examples/data/added_lines.shp...\n",
      "--> building dataframe... (may take a while for large shapefiles)\n",
      "\n",
      "reading ../Examples/data/grid.shp...\n",
      "--> building dataframe... (may take a while for large shapefiles)\n",
      "routing new lines within 200 to SFR...\n",
      "\n",
      "clipping lines to active area...\n",
      "intersecting lines with grid cells...\n",
      "\n",
      "Building spatial index...\n",
      "finished in 6.34s\n",
      "\n",
      "Intersecting 137 features...\n",
      "137\n",
      "finished in 0.06s\n",
      "\n",
      "setting up reaches and Mat1... (may take a few minutes for large grids)\n",
      "finished in 1.31s\n",
      "\n",
      "computing lengths...\n",
      "computing arbolate sums at reach midpoints...\n",
      "finished in 0.04s\n",
      "\n",
      "computing widths...\n",
      "multiplying length units by 3.28083989501 to convert from GIS to MODFLOW...\n",
      "\n",
      "setting up Mat2...\n",
      "finished in 0.00s\n",
      "\n"
     ]
    }
   ],
   "source": [
    "trim_buffer=20\n",
    "lns = lines(newlines, mf_grid=grid, mf_grid_node_col='node', model_domain=domain)\n",
    "lns.get_end_elevs_from_dem(dem)\n",
    "m1, m2 = lns.append2sfr(sfr, route2reach1=False, routing_tol=200)"
   ]
  },
  {
   "cell_type": "code",
   "execution_count": 5,
   "metadata": {
    "collapsed": false
   },
   "outputs": [
    {
     "name": "stdout",
     "output_type": "stream",
     "text": [
      "Reading input...\n",
      "\n",
      "reading /Users/aleaf/Documents/NHDPlus/NHDPlusGL/NHDPlus04/NHDPlusAttributes/elevslope.dbf...\n",
      "--> building dataframe... (may take a while for large shapefiles)\n",
      "\n",
      "reading /Users/aleaf/Documents/NHDPlus/NHDPlusGL/NHDPlus04/NHDPlusAttributes/PlusFlow.dbf...\n",
      "--> building dataframe... (may take a while for large shapefiles)\n",
      "\n",
      "reading /Users/aleaf/Documents/NHDPlus/NHDPlusGL/NHDPlus04/NHDPlusAttributes/PlusFlowlineVAA.dbf...\n",
      "--> building dataframe... (may take a while for large shapefiles)\n",
      "\n",
      "reading ../Examples/data/grid.shp...\n",
      "--> building dataframe... (may take a while for large shapefiles)\n",
      "Warning: Node field for grid shape file not supplied.                   Node numbers will be assigned using index.                   This may result in incorrect location of SFR reaches.\n",
      "reprojecting NHDFlowlines from\n",
      "+proj=longlat +datum=NAD83 +no_defs \n",
      "to\n",
      "+proj=utm +zone=15 +datum=NAD27 +units=m +no_defs ...\n",
      "\n",
      "clipping flowlines to active area...\n",
      "intersecting flowlines with grid cells...\n",
      "\n",
      "Building spatial index...\n",
      "finished in 6.45s\n",
      "\n",
      "Intersecting 119 features...\n",
      "119\n",
      "finished in 0.40s\n",
      "\n",
      "setting up segments... (may take a few minutes for large networks)\n",
      "getting routing information from NHDPlus Plusflow table...\n",
      "assigning segment numbers...\n",
      "finished in 0.98s\n",
      "\n",
      "setting up reaches and Mat1... (may take a few minutes for large grids)\n"
     ]
    },
    {
     "ename": "IndexError",
     "evalue": "list index out of range",
     "output_type": "error",
     "traceback": [
      "\u001b[0;31m---------------------------------------------------------------------------\u001b[0m",
      "\u001b[0;31mIndexError\u001b[0m                                Traceback (most recent call last)",
      "\u001b[0;32m<ipython-input-5-676c5648c902>\u001b[0m in \u001b[0;36m<module>\u001b[0;34m()\u001b[0m\n\u001b[1;32m      5\u001b[0m               flowlines_proj4=nhd_lines_proj4)\n\u001b[1;32m      6\u001b[0m \u001b[0;34m\u001b[0m\u001b[0m\n\u001b[0;32m----> 7\u001b[0;31m \u001b[0mnhd\u001b[0m\u001b[0;34m.\u001b[0m\u001b[0mto_sfr\u001b[0m\u001b[0;34m(\u001b[0m\u001b[0;34m)\u001b[0m\u001b[0;34m\u001b[0m\u001b[0m\n\u001b[0m",
      "\u001b[0;32m/Users/aleaf/Documents/GitHub/SFR/preproc.py\u001b[0m in \u001b[0;36mto_sfr\u001b[0;34m(self, roughness, streambed_thickness, streambedK, icalc, iupseg, iprior, nstrpts, flow, runoff, etsw, pptsw, roughch, roughbk, cdepth, fdepth, awdth, bwdth)\u001b[0m\n\u001b[1;32m    398\u001b[0m         \u001b[0;32mprint\u001b[0m\u001b[0;34m(\u001b[0m\u001b[0;34m\"setting up reaches and Mat1... (may take a few minutes for large grids)\"\u001b[0m\u001b[0;34m)\u001b[0m\u001b[0;34m\u001b[0m\u001b[0m\n\u001b[1;32m    399\u001b[0m         \u001b[0mta\u001b[0m \u001b[0;34m=\u001b[0m \u001b[0mtime\u001b[0m\u001b[0;34m.\u001b[0m\u001b[0mtime\u001b[0m\u001b[0;34m(\u001b[0m\u001b[0;34m)\u001b[0m\u001b[0;34m\u001b[0m\u001b[0m\n\u001b[0;32m--> 400\u001b[0;31m         \u001b[0mm1\u001b[0m \u001b[0;34m=\u001b[0m \u001b[0mmake_mat1\u001b[0m\u001b[0;34m(\u001b[0m\u001b[0mflowline_geoms\u001b[0m\u001b[0;34m,\u001b[0m \u001b[0mfl_segments\u001b[0m\u001b[0;34m,\u001b[0m \u001b[0mfl_comids\u001b[0m\u001b[0;34m,\u001b[0m \u001b[0mgrid_intersections\u001b[0m\u001b[0;34m,\u001b[0m \u001b[0mgrid_geoms\u001b[0m\u001b[0;34m)\u001b[0m\u001b[0;34m\u001b[0m\u001b[0m\n\u001b[0m\u001b[1;32m    401\u001b[0m         \u001b[0;32mprint\u001b[0m\u001b[0;34m(\u001b[0m\u001b[0;34m\"finished in {:.2f}s\\n\"\u001b[0m\u001b[0;34m.\u001b[0m\u001b[0mformat\u001b[0m\u001b[0;34m(\u001b[0m\u001b[0mtime\u001b[0m\u001b[0;34m.\u001b[0m\u001b[0mtime\u001b[0m\u001b[0;34m(\u001b[0m\u001b[0;34m)\u001b[0m \u001b[0;34m-\u001b[0m \u001b[0mta\u001b[0m\u001b[0;34m)\u001b[0m\u001b[0;34m)\u001b[0m\u001b[0;34m\u001b[0m\u001b[0m\n\u001b[1;32m    402\u001b[0m \u001b[0;34m\u001b[0m\u001b[0m\n",
      "\u001b[0;32m/Users/aleaf/Documents/GitHub/SFR/preproc.py\u001b[0m in \u001b[0;36mmake_mat1\u001b[0;34m(flowline_geoms, fl_segments, fl_comids, grid_intersections, grid_geoms)\u001b[0m\n\u001b[1;32m   1045\u001b[0m \u001b[0;34m\u001b[0m\u001b[0m\n\u001b[1;32m   1046\u001b[0m         \u001b[0;32mif\u001b[0m \u001b[0msegment_geom\u001b[0m\u001b[0;34m.\u001b[0m\u001b[0mtype\u001b[0m \u001b[0;34m!=\u001b[0m \u001b[0;34m'MultiLineString'\u001b[0m\u001b[0;34m:\u001b[0m\u001b[0;34m\u001b[0m\u001b[0m\n\u001b[0;32m-> 1047\u001b[0;31m             \u001b[0mordered_reach_geoms\u001b[0m\u001b[0;34m,\u001b[0m \u001b[0mordered_node_numbers\u001b[0m \u001b[0;34m=\u001b[0m \u001b[0mcreate_reaches\u001b[0m\u001b[0;34m(\u001b[0m\u001b[0msegment_geom\u001b[0m\u001b[0;34m,\u001b[0m \u001b[0msegment_nodes\u001b[0m\u001b[0;34m,\u001b[0m \u001b[0mgrid_geoms\u001b[0m\u001b[0;34m)\u001b[0m\u001b[0;34m\u001b[0m\u001b[0m\n\u001b[0m\u001b[1;32m   1048\u001b[0m             \u001b[0mreach\u001b[0m \u001b[0;34m+=\u001b[0m \u001b[0mlist\u001b[0m\u001b[0;34m(\u001b[0m\u001b[0mnp\u001b[0m\u001b[0;34m.\u001b[0m\u001b[0marange\u001b[0m\u001b[0;34m(\u001b[0m\u001b[0mlen\u001b[0m\u001b[0;34m(\u001b[0m\u001b[0mordered_reach_geoms\u001b[0m\u001b[0;34m)\u001b[0m\u001b[0;34m)\u001b[0m \u001b[0;34m+\u001b[0m \u001b[0;36m1\u001b[0m\u001b[0;34m)\u001b[0m\u001b[0;34m\u001b[0m\u001b[0m\n\u001b[1;32m   1049\u001b[0m             \u001b[0mgeometry\u001b[0m \u001b[0;34m+=\u001b[0m \u001b[0mordered_reach_geoms\u001b[0m\u001b[0;34m\u001b[0m\u001b[0m\n",
      "\u001b[0;32m/Users/aleaf/Documents/GitHub/SFR/preproc.py\u001b[0m in \u001b[0;36mcreate_reaches\u001b[0;34m(part, segment_nodes, grid_geoms)\u001b[0m\n\u001b[1;32m    865\u001b[0m         \u001b[0;31m# find the next flowline part (reach) that touches the current reach\u001b[0m\u001b[0;34m\u001b[0m\u001b[0;34m\u001b[0m\u001b[0m\n\u001b[1;32m    866\u001b[0m         r = [j for j, g in reach_geoms.items() if current_reach.intersects(g.buffer(0.001))\n\u001b[0;32m--> 867\u001b[0;31m              ][0]\n\u001b[0m\u001b[1;32m    868\u001b[0m         \u001b[0mnext_reach\u001b[0m \u001b[0;34m=\u001b[0m \u001b[0mreach_geoms\u001b[0m\u001b[0;34m.\u001b[0m\u001b[0mpop\u001b[0m\u001b[0;34m(\u001b[0m\u001b[0mr\u001b[0m\u001b[0;34m)\u001b[0m\u001b[0;34m\u001b[0m\u001b[0m\n\u001b[1;32m    869\u001b[0m         \u001b[0mordered_reach_geoms\u001b[0m\u001b[0;34m.\u001b[0m\u001b[0mappend\u001b[0m\u001b[0;34m(\u001b[0m\u001b[0mnext_reach\u001b[0m\u001b[0;34m)\u001b[0m\u001b[0;34m\u001b[0m\u001b[0m\n",
      "\u001b[0;31mIndexError\u001b[0m: list index out of range"
     ]
    }
   ],
   "source": [
    "nhd = NHDdata(NHDFlowline=nhd_lines, PlusFlowlineVAA=pfvaa_files, PlusFlow=pf_files,\n",
    "              elevslope=elevslope_files,\n",
    "              mf_grid=grid, mf_units='feet',\n",
    "              model_domain=domain,\n",
    "              flowlines_proj4=nhd_lines_proj4)\n",
    "              \n",
    "nhd.to_sfr()"
   ]
  },
  {
   "cell_type": "code",
   "execution_count": 6,
   "metadata": {
    "collapsed": false
   },
   "outputs": [
    {
     "name": "stdout",
     "output_type": "stream",
     "text": [
      "writing temp/junk.shp...\n"
     ]
    }
   ],
   "source": [
    "df2shp(m1, 'temp/junk.shp')"
   ]
  },
  {
   "cell_type": "code",
   "execution_count": null,
   "metadata": {
    "collapsed": true
   },
   "outputs": [],
   "source": [
    "m1 = pd.read_csv('../test/temp/junkMat1.csv')"
   ]
  },
  {
   "cell_type": "code",
   "execution_count": 6,
   "metadata": {
    "collapsed": false
   },
   "outputs": [
    {
     "data": {
      "text/plain": [
       "rec.array([ (0, 13912, 1, 29, 1, 0, 0.5192679511000089, 95.23010503448131, 1, 1, 0.037000000000000005, 942),\n",
       " (1, 13913, 1, 29, 2, 0, 1.0311761121137468, 259.7254263863121, 1, 1, 0.037000000000000005, 943),\n",
       " (2, 13753, 1, 29, 3, 0, 1.4011936841218071, 140.55971321099773, 1, 1, 0.037000000000000005, 944),\n",
       " ...,\n",
       " (1263, 4688, 1, 47, 13, 0, 3.280839895013123, 262.9583964664946, 1, 1, 0.037000000000000005, 1264),\n",
       " (1264, 4688, 1, 47, 14, 0, 3.280839895013123, 140.2498598760475, 1, 1, 0.037000000000000005, 1265),\n",
       " (1265, 4848, 1, 47, 15, 0, 3.280839895013123, 123.98980788467978, 1, 1, 0.037000000000000005, 1266)], \n",
       "          dtype=[('index', '<i8'), ('node', '<i8'), ('layer', '<i8'), ('segment', '<i8'), ('reach', '<i8'), ('sbtop', '<i8'), ('width', '<f8'), ('length', '<f8'), ('sbthick', '<i8'), ('sbK', '<i8'), ('roughness', '<f8'), ('reachID', '<i8')])"
      ]
     },
     "execution_count": 6,
     "metadata": {},
     "output_type": "execute_result"
    }
   ],
   "source": [
    "m1.to_records()"
   ]
  },
  {
   "cell_type": "code",
   "execution_count": 35,
   "metadata": {
    "collapsed": false
   },
   "outputs": [
    {
     "data": {
      "text/plain": [
       "[(1, 0.2), (3, 0.5), (5, 0.1), (7, 0.005)]"
      ]
     },
     "execution_count": 35,
     "metadata": {},
     "output_type": "execute_result"
    }
   ],
   "source": [
    "class SFRdata(flopy.modflow.ModflowSfr2):\n",
    "    \n",
    "    column_mappings = {'layer': 'k', \n",
    "                       'row': 'i', \n",
    "                       'column': 'j',\n",
    "                       'segment': 'iseg', \n",
    "                       'reach': 'ireach',\n",
    "                       'sbtop': 'strtop',\n",
    "                       }\n",
    "    def __init__(self, reach_data, segment_data):"
   ]
  },
  {
   "cell_type": "code",
   "execution_count": 2,
   "metadata": {
    "collapsed": false
   },
   "outputs": [
    {
     "ename": "NameError",
     "evalue": "name 'm1' is not defined",
     "output_type": "error",
     "traceback": [
      "\u001b[0;31m---------------------------------------------------------------------------\u001b[0m",
      "\u001b[0;31mNameError\u001b[0m                                 Traceback (most recent call last)",
      "\u001b[0;32m<ipython-input-2-44b0a5364caf>\u001b[0m in \u001b[0;36m<module>\u001b[0;34m()\u001b[0m\n\u001b[0;32m----> 1\u001b[0;31m \u001b[0mm1\u001b[0m\u001b[0;34m\u001b[0m\u001b[0m\n\u001b[0m",
      "\u001b[0;31mNameError\u001b[0m: name 'm1' is not defined"
     ]
    }
   ],
   "source": [
    "m1"
   ]
  },
  {
   "cell_type": "code",
   "execution_count": null,
   "metadata": {
    "collapsed": true
   },
   "outputs": [],
   "source": []
  }
 ],
 "metadata": {
  "kernelspec": {
   "display_name": "Python 2",
   "language": "python",
   "name": "python2"
  },
  "language_info": {
   "codemirror_mode": {
    "name": "ipython",
    "version": 2
   },
   "file_extension": ".py",
   "mimetype": "text/x-python",
   "name": "python",
   "nbconvert_exporter": "python",
   "pygments_lexer": "ipython2",
   "version": "2.7.11"
  }
 },
 "nbformat": 4,
 "nbformat_minor": 0
}
